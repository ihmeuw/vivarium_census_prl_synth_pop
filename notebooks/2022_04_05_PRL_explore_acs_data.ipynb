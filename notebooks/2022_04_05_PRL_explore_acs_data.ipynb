{
 "cells": [
  {
   "cell_type": "code",
   "execution_count": 1,
   "id": "0cd752db",
   "metadata": {},
   "outputs": [],
   "source": [
    "import numpy as np\n",
    "import pandas as pd"
   ]
  },
  {
   "cell_type": "markdown",
   "id": "9bf189e4",
   "metadata": {},
   "source": [
    "# Checkout data from ACS for PRL synthpop"
   ]
  },
  {
   "cell_type": "code",
   "execution_count": 2,
   "id": "d2dcf7aa",
   "metadata": {},
   "outputs": [],
   "source": [
    "# focus on Florida"
   ]
  },
  {
   "cell_type": "markdown",
   "id": "630a3e94",
   "metadata": {},
   "source": [
    "## TOC #\n",
    "\n",
    "### list of vars needed\n",
    "\n",
    "### acs vars we have\n",
    "###### source: https://www2.census.gov/programs-surveys/acs/tech_docs/pums/data_dict/PUMS_Data_Dictionary_2019.pdf\n",
    "\n",
    "### import data\n",
    "\n",
    "### merge on households weights\n",
    "\n",
    "### map ACS vars to our desired vars\n",
    "\n",
    "### checkout each var"
   ]
  },
  {
   "cell_type": "code",
   "execution_count": 3,
   "id": "bf91c0dc",
   "metadata": {},
   "outputs": [
    {
     "name": "stdout",
     "output_type": "stream",
     "text": [
      "\u001b[0m\u001b[01;31mcsv_hus.zip\u001b[0m  \u001b[01;32mpsam_husa.csv\u001b[0m*  \u001b[01;32mpsam_husc.csv\u001b[0m*\r\n",
      "\u001b[01;31mcsv_pus.zip\u001b[0m  \u001b[01;32mpsam_husb.csv\u001b[0m*  \u001b[01;32mpsam_husd.csv\u001b[0m*\r\n"
     ]
    }
   ],
   "source": [
    "ls /mnt/team/simulation_science/pub/tmp_prl_data/"
   ]
  },
  {
   "cell_type": "markdown",
   "id": "4abd5080",
   "metadata": {},
   "source": [
    "# VARS WE WILL NEED"
   ]
  },
  {
   "cell_type": "code",
   "execution_count": 4,
   "id": "491f483d",
   "metadata": {},
   "outputs": [],
   "source": [
    "## VARS OF INTEREST --- PERSON FILE\n",
    "\n",
    "# age\n",
    "# int\n",
    "# sex\n",
    "# binary :P\n",
    "# race/ethnicity\n",
    "# non-latino white alone\n",
    "# non-latino black alone\n",
    "# non-latino AIAN alone\n",
    "# non-latino asian alone\n",
    "# non-latino native hawaiian/other pacific islander\n",
    "# non-latino multiracial\n",
    "# latino\n",
    "# geographic location\n",
    "# puma level\n",
    "# household id\n",
    "# relationship to reference person"
   ]
  },
  {
   "cell_type": "code",
   "execution_count": 5,
   "id": "755ff675",
   "metadata": {},
   "outputs": [],
   "source": [
    "## VARS NEEDED -- HH FILE\n",
    "\n",
    "# household id\n",
    "# household weight"
   ]
  },
  {
   "cell_type": "markdown",
   "id": "bc54743e",
   "metadata": {},
   "source": [
    "# VARS WE HAVE FROM ACS"
   ]
  },
  {
   "cell_type": "code",
   "execution_count": 6,
   "id": "c5a438e8",
   "metadata": {},
   "outputs": [],
   "source": [
    "# RELSHIPP Character 2\n",
    "# Relationship\n",
    "# 20 .Reference person\n",
    "# 21 .Opposite-sex husband/wife/spouse\n",
    "# 22 .Opposite-sex unmarried partner\n",
    "# 23 .Same-sex husband/wife/spouse\n",
    "# 24 .Same-sex unmarried partner\n",
    "# 25 .Biological son or daughter\n",
    "# 26 .Adopted son or daughter\n",
    "# 27 .Stepson or stepdaughter\n",
    "# 28 .Brother or sister\n",
    "# 29 .Father or mother\n",
    "# 30 .Grandchild\n",
    "# 31 .Parent-in-law\n",
    "# 32 .Son-in-law or daughter-in-law\n",
    "# 33 .Other relative\n",
    "# 34 .Roommate or housemate\n",
    "# 35 .Foster child\n",
    "# 36 .Other nonrelative\n",
    "# 37 .Institutionalized group quarters population\n",
    "# 38 .Noninstitutionalized group quarters population"
   ]
  },
  {
   "cell_type": "code",
   "execution_count": 7,
   "id": "d0d81ac5",
   "metadata": {},
   "outputs": [],
   "source": [
    "# HISP Character 2\n",
    "# Recoded detailed Hispanic origin\n",
    "# 01 .Not Spanish/Hispanic/Latino\n",
    "# 02 .Mexican\n",
    "# 03 .Puerto Rican\n",
    "# 04 .Cuban\n",
    "# 05 .Dominican\n",
    "# 06 .Costa Rican\n",
    "# 07 .Guatemalan\n",
    "# 08 .Honduran\n",
    "# 09 .Nicaraguan\n",
    "# 10 .Panamanian\n",
    "# 11 .Salvadoran\n",
    "# 12 .Other Central American\n",
    "# 13 .Argentinean\n",
    "# 14 .Bolivian\n",
    "# 15 .Chilean\n",
    "# 16 .Colombian\n",
    "# 17 .Ecuadorian\n",
    "# 18 .Paraguayan\n",
    "# 19 .Peruvian\n",
    "# 20 .Uruguayan\n",
    "# 21 .Venezuelan\n",
    "# 22 .Other South American\n",
    "# 23 .Spaniard\n",
    "# 24 .All Other Spanish/Hispanic/Latino"
   ]
  },
  {
   "cell_type": "code",
   "execution_count": 8,
   "id": "d4229f8f",
   "metadata": {},
   "outputs": [],
   "source": [
    "# RAC1P Character 1\n",
    "# Recoded detailed race code\n",
    "# 1 .White alone\n",
    "# 2 .Black or African American alone\n",
    "# 3 .American Indian alone\n",
    "# 4 .Alaska Native alone\n",
    "# 5 .American Indian and Alaska Native tribes specified; or\n",
    "# .American Indian or Alaska Native, not specified and no other\n",
    "# .races\n",
    "# 6 .Asian alone\n",
    "# 7 .Native Hawaiian and Other Pacific Islander alone\n",
    "# 8 .Some Other Race alone\n",
    "# 9 .Two or More Races"
   ]
  },
  {
   "cell_type": "code",
   "execution_count": 9,
   "id": "4e3d48f3",
   "metadata": {},
   "outputs": [],
   "source": [
    "# SEX Character 1\n",
    "# Sex\n",
    "# 1 .Male\n",
    "# 2 .Female"
   ]
  },
  {
   "cell_type": "markdown",
   "id": "77de31af",
   "metadata": {},
   "source": [
    "# IMPORT DATA"
   ]
  },
  {
   "cell_type": "code",
   "execution_count": 10,
   "id": "42a854ee",
   "metadata": {},
   "outputs": [],
   "source": [
    "data_dir = \"/mnt/team/simulation_science/priv/engineering/prl_data/\""
   ]
  },
  {
   "cell_type": "code",
   "execution_count": 11,
   "id": "e4183907",
   "metadata": {},
   "outputs": [
    {
     "name": "stderr",
     "output_type": "stream",
     "text": [
      "<timed exec>:5: DtypeWarning: Columns (1) have mixed types. Specify dtype option on import or set low_memory=False.\n",
      "<timed exec>:9: FutureWarning: The frame.append method is deprecated and will be removed from pandas in a future version. Use pandas.concat instead.\n",
      "<timed exec>:5: DtypeWarning: Columns (1) have mixed types. Specify dtype option on import or set low_memory=False.\n",
      "<timed exec>:9: FutureWarning: The frame.append method is deprecated and will be removed from pandas in a future version. Use pandas.concat instead.\n",
      "<timed exec>:5: DtypeWarning: Columns (1) have mixed types. Specify dtype option on import or set low_memory=False.\n",
      "<timed exec>:9: FutureWarning: The frame.append method is deprecated and will be removed from pandas in a future version. Use pandas.concat instead.\n"
     ]
    },
    {
     "name": "stdout",
     "output_type": "stream",
     "text": [
      "CPU times: user 26.7 s, sys: 3.45 s, total: 30.2 s\n",
      "Wall time: 37.1 s\n"
     ]
    },
    {
     "name": "stderr",
     "output_type": "stream",
     "text": [
      "<timed exec>:5: DtypeWarning: Columns (1) have mixed types. Specify dtype option on import or set low_memory=False.\n",
      "<timed exec>:9: FutureWarning: The frame.append method is deprecated and will be removed from pandas in a future version. Use pandas.concat instead.\n"
     ]
    }
   ],
   "source": [
    "%%time\n",
    "hh_vars = [\"WGTP\", \"SERIALNO\"]\n",
    "hh_weights = pd.DataFrame()\n",
    "\n",
    "for file in [f\"psam_hus{x}.csv\" for x in [\"a\", \"b\", \"c\", \"d\"]]:\n",
    "    new = pd.read_csv(data_dir + \"Apr_04_2022/\" + file, usecols=hh_vars)\n",
    "    hh_weights = hh_weights.append(new)"
   ]
  },
  {
   "cell_type": "code",
   "execution_count": 13,
   "id": "760e5085",
   "metadata": {},
   "outputs": [],
   "source": [
    "person_var_dict = {\n",
    "    \"SERIALNO\": \"household_id\",\n",
    "    \"PUMA\": \"puma\",\n",
    "    \"ST\": \"state\",\n",
    "    \"AGEP\": \"age\",\n",
    "    \"RELSHIPP\": \"relation_to_reference_person\",\n",
    "    \"SEX\": \"sex\",\n",
    "    \"HISP\": \"latino\",\n",
    "    \"RAC1P\": \"race\",\n",
    "}"
   ]
  },
  {
   "cell_type": "code",
   "execution_count": 14,
   "id": "b3a61390",
   "metadata": {},
   "outputs": [
    {
     "name": "stderr",
     "output_type": "stream",
     "text": [
      "/tmp/ipykernel_329510/2920185235.py:3: DtypeWarning: Columns (1) have mixed types. Specify dtype option on import or set low_memory=False.\n",
      "  fl_person = pd.read_csv(\n"
     ]
    }
   ],
   "source": [
    "florida_person_path = (\n",
    "    \"/mnt/team/simulation_science/priv/engineering/prl_data/florida/Apr_05_2022/psam_p12.csv\"\n",
    ")\n",
    "\n",
    "fl_person = pd.read_csv(florida_person_path, usecols=person_var_dict.keys())"
   ]
  },
  {
   "cell_type": "markdown",
   "id": "6755b501",
   "metadata": {},
   "source": [
    "# MERGE ON HOUSEHOLD WEIGHTS"
   ]
  },
  {
   "cell_type": "code",
   "execution_count": 15,
   "id": "ea2bab25",
   "metadata": {},
   "outputs": [
    {
     "data": {
      "text/plain": [
       "set()"
      ]
     },
     "execution_count": 15,
     "metadata": {},
     "output_type": "execute_result"
    }
   ],
   "source": [
    "# make sure all household ids from FL file are in general hh_id file\n",
    "\n",
    "hh_weights.SERIALNO = hh_weights.SERIALNO.astype(str)\n",
    "fl_person.SERIALNO = fl_person.SERIALNO.astype(str)\n",
    "\n",
    "set(fl_person.SERIALNO).difference(set(hh_weights.SERIALNO))"
   ]
  },
  {
   "cell_type": "code",
   "execution_count": 16,
   "id": "2bca8744",
   "metadata": {},
   "outputs": [],
   "source": [
    "# merge on household weights\n",
    "fl_person = fl_person.merge(hh_weights, on=\"SERIALNO\")\n",
    "\n",
    "# rename variables\n",
    "fl_person = fl_person.rename(columns=person_var_dict)\n",
    "fl_person = fl_person.rename(columns={\"WGTP\": \"hh_weight\"})"
   ]
  },
  {
   "cell_type": "code",
   "execution_count": 17,
   "id": "9216e65b",
   "metadata": {},
   "outputs": [
    {
     "data": {
      "text/html": [
       "<div>\n",
       "<style scoped>\n",
       "    .dataframe tbody tr th:only-of-type {\n",
       "        vertical-align: middle;\n",
       "    }\n",
       "\n",
       "    .dataframe tbody tr th {\n",
       "        vertical-align: top;\n",
       "    }\n",
       "\n",
       "    .dataframe thead th {\n",
       "        text-align: right;\n",
       "    }\n",
       "</style>\n",
       "<table border=\"1\" class=\"dataframe\">\n",
       "  <thead>\n",
       "    <tr style=\"text-align: right;\">\n",
       "      <th></th>\n",
       "      <th>SERIALNO</th>\n",
       "      <th>WGTP</th>\n",
       "    </tr>\n",
       "  </thead>\n",
       "  <tbody>\n",
       "    <tr>\n",
       "      <th>0</th>\n",
       "      <td>2015000000037</td>\n",
       "      <td>14</td>\n",
       "    </tr>\n",
       "    <tr>\n",
       "      <th>1</th>\n",
       "      <td>2015000000067</td>\n",
       "      <td>9</td>\n",
       "    </tr>\n",
       "    <tr>\n",
       "      <th>2</th>\n",
       "      <td>2015000000090</td>\n",
       "      <td>11</td>\n",
       "    </tr>\n",
       "    <tr>\n",
       "      <th>3</th>\n",
       "      <td>2015000000160</td>\n",
       "      <td>15</td>\n",
       "    </tr>\n",
       "    <tr>\n",
       "      <th>4</th>\n",
       "      <td>2015000000345</td>\n",
       "      <td>29</td>\n",
       "    </tr>\n",
       "    <tr>\n",
       "      <th>...</th>\n",
       "      <td>...</td>\n",
       "      <td>...</td>\n",
       "    </tr>\n",
       "    <tr>\n",
       "      <th>1917163</th>\n",
       "      <td>2019HU1410371</td>\n",
       "      <td>3</td>\n",
       "    </tr>\n",
       "    <tr>\n",
       "      <th>1917164</th>\n",
       "      <td>2019HU1411359</td>\n",
       "      <td>12</td>\n",
       "    </tr>\n",
       "    <tr>\n",
       "      <th>1917165</th>\n",
       "      <td>2019HU1411842</td>\n",
       "      <td>5</td>\n",
       "    </tr>\n",
       "    <tr>\n",
       "      <th>1917166</th>\n",
       "      <td>2019HU1412021</td>\n",
       "      <td>9</td>\n",
       "    </tr>\n",
       "    <tr>\n",
       "      <th>1917167</th>\n",
       "      <td>2019HU1412362</td>\n",
       "      <td>14</td>\n",
       "    </tr>\n",
       "  </tbody>\n",
       "</table>\n",
       "<p>7613443 rows × 2 columns</p>\n",
       "</div>"
      ],
      "text/plain": [
       "              SERIALNO  WGTP\n",
       "0        2015000000037    14\n",
       "1        2015000000067     9\n",
       "2        2015000000090    11\n",
       "3        2015000000160    15\n",
       "4        2015000000345    29\n",
       "...                ...   ...\n",
       "1917163  2019HU1410371     3\n",
       "1917164  2019HU1411359    12\n",
       "1917165  2019HU1411842     5\n",
       "1917166  2019HU1412021     9\n",
       "1917167  2019HU1412362    14\n",
       "\n",
       "[7613443 rows x 2 columns]"
      ]
     },
     "execution_count": 17,
     "metadata": {},
     "output_type": "execute_result"
    }
   ],
   "source": [
    "hh_weights"
   ]
  },
  {
   "cell_type": "markdown",
   "id": "35aeac1c",
   "metadata": {},
   "source": [
    "# MAP ACS VARS TO DESIRED VARS"
   ]
  },
  {
   "cell_type": "code",
   "execution_count": 37,
   "id": "7db10cdf",
   "metadata": {},
   "outputs": [],
   "source": [
    "# map latino to 0 and non-latino to 1\n",
    "latino_map = {i: 0 for i in fl_person.latino.unique()}\n",
    "latino_map[1] = 1\n",
    "\n",
    "# map non latino (==1) to diffeferent races\n",
    "fl_person[\"race_eth\"] = fl_person.latino.map(latino_map)\n",
    "fl_person.loc[fl_person.race_eth == 1, \"race_eth\"] = fl_person.loc[\n",
    "    fl_person.race_eth == 1,\n",
    "].race"
   ]
  },
  {
   "cell_type": "code",
   "execution_count": 38,
   "id": "41449d27",
   "metadata": {},
   "outputs": [],
   "source": [
    "# label each race/eth\n",
    "race_eth_map = {\n",
    "    0: \"Latino\",\n",
    "    1: \"Non-Latino White alone\",\n",
    "    2: \"Non-Latino Black alone\",\n",
    "    3: \"Non-Latino AIAN alone\",\n",
    "    4: \"Non-Latino AIAN alone\",\n",
    "    5: \"Non-Latino AIAN alone\",\n",
    "    6: \"Non-Latino Asian alone\",\n",
    "    7: \"Non-Latino NHOPI alone\",\n",
    "    8: \"Non-Latino Multiracial or Other\",\n",
    "    9: \"Non-Latino Multiracial or Other\",\n",
    "}"
   ]
  },
  {
   "cell_type": "code",
   "execution_count": 39,
   "id": "5a8f3a34",
   "metadata": {},
   "outputs": [],
   "source": [
    "fl_person.race_eth = fl_person.race_eth.map(race_eth_map)"
   ]
  },
  {
   "cell_type": "code",
   "execution_count": 40,
   "id": "4392781a",
   "metadata": {},
   "outputs": [],
   "source": [
    "fl_person = fl_person.drop(columns=[\"latino\", \"race\"])"
   ]
  },
  {
   "cell_type": "code",
   "execution_count": 41,
   "id": "0da6bdd2",
   "metadata": {},
   "outputs": [],
   "source": [
    "sex_map = {1: \"Male\", 2: \"Female\"}\n",
    "fl_person.sex = fl_person.sex.map(sex_map)"
   ]
  },
  {
   "cell_type": "code",
   "execution_count": 42,
   "id": "4893d2bf",
   "metadata": {},
   "outputs": [
    {
     "data": {
      "text/html": [
       "<div>\n",
       "<style scoped>\n",
       "    .dataframe tbody tr th:only-of-type {\n",
       "        vertical-align: middle;\n",
       "    }\n",
       "\n",
       "    .dataframe tbody tr th {\n",
       "        vertical-align: top;\n",
       "    }\n",
       "\n",
       "    .dataframe thead th {\n",
       "        text-align: right;\n",
       "    }\n",
       "</style>\n",
       "<table border=\"1\" class=\"dataframe\">\n",
       "  <thead>\n",
       "    <tr style=\"text-align: right;\">\n",
       "      <th></th>\n",
       "      <th>household_id</th>\n",
       "      <th>puma</th>\n",
       "      <th>state</th>\n",
       "      <th>age</th>\n",
       "      <th>relation_to_reference_person</th>\n",
       "      <th>sex</th>\n",
       "      <th>hh_weight</th>\n",
       "      <th>race_eth</th>\n",
       "    </tr>\n",
       "  </thead>\n",
       "  <tbody>\n",
       "    <tr>\n",
       "      <th>0</th>\n",
       "      <td>2015000000042</td>\n",
       "      <td>10303</td>\n",
       "      <td>12</td>\n",
       "      <td>66</td>\n",
       "      <td>20</td>\n",
       "      <td>Female</td>\n",
       "      <td>14</td>\n",
       "      <td>Non-Latino White alone</td>\n",
       "    </tr>\n",
       "    <tr>\n",
       "      <th>1</th>\n",
       "      <td>2015000000042</td>\n",
       "      <td>10303</td>\n",
       "      <td>12</td>\n",
       "      <td>68</td>\n",
       "      <td>21</td>\n",
       "      <td>Male</td>\n",
       "      <td>14</td>\n",
       "      <td>Non-Latino White alone</td>\n",
       "    </tr>\n",
       "    <tr>\n",
       "      <th>2</th>\n",
       "      <td>2015000000042</td>\n",
       "      <td>10303</td>\n",
       "      <td>12</td>\n",
       "      <td>45</td>\n",
       "      <td>25</td>\n",
       "      <td>Male</td>\n",
       "      <td>14</td>\n",
       "      <td>Non-Latino White alone</td>\n",
       "    </tr>\n",
       "    <tr>\n",
       "      <th>3</th>\n",
       "      <td>2015000000055</td>\n",
       "      <td>5301</td>\n",
       "      <td>12</td>\n",
       "      <td>82</td>\n",
       "      <td>20</td>\n",
       "      <td>Male</td>\n",
       "      <td>6</td>\n",
       "      <td>Non-Latino White alone</td>\n",
       "    </tr>\n",
       "    <tr>\n",
       "      <th>4</th>\n",
       "      <td>2015000000055</td>\n",
       "      <td>5301</td>\n",
       "      <td>12</td>\n",
       "      <td>80</td>\n",
       "      <td>21</td>\n",
       "      <td>Female</td>\n",
       "      <td>6</td>\n",
       "      <td>Non-Latino White alone</td>\n",
       "    </tr>\n",
       "  </tbody>\n",
       "</table>\n",
       "</div>"
      ],
      "text/plain": [
       "    household_id   puma  state  age  relation_to_reference_person     sex  \\\n",
       "0  2015000000042  10303     12   66                          20  Female   \n",
       "1  2015000000042  10303     12   68                          21    Male   \n",
       "2  2015000000042  10303     12   45                          25    Male   \n",
       "3  2015000000055   5301     12   82                          20    Male   \n",
       "4  2015000000055   5301     12   80                          21  Female   \n",
       "\n",
       "   hh_weight                race_eth  \n",
       "0         14  Non-Latino White alone  \n",
       "1         14  Non-Latino White alone  \n",
       "2         14  Non-Latino White alone  \n",
       "3          6  Non-Latino White alone  \n",
       "4          6  Non-Latino White alone  "
      ]
     },
     "execution_count": 42,
     "metadata": {},
     "output_type": "execute_result"
    }
   ],
   "source": [
    "fl_person.head()"
   ]
  },
  {
   "cell_type": "code",
   "execution_count": 43,
   "id": "1e9a0e33",
   "metadata": {},
   "outputs": [],
   "source": [
    "relshipp_map = {\n",
    "    20: \"Reference person\",\n",
    "    21: \"Opposite-sex husband/wife/spouse\",\n",
    "    22: \"Opposite-sex unmarried partner\",\n",
    "    23: \"Same-sex husband/wife/spouse\",\n",
    "    24: \"Same-sex unmarried partner\",\n",
    "    25: \"Biological son or daughter\",\n",
    "    26: \"Adopted son or daughter\",\n",
    "    27: \"Stepson or stepdaughter\",\n",
    "    28: \"Brother or sister\",\n",
    "    29: \"Father or mother\",\n",
    "    30: \"Grandchild\",\n",
    "    31: \"Parent-in-law\",\n",
    "    32: \"Son-in-law or daughter-in-law\",\n",
    "    33: \"Other relative\",\n",
    "    34: \"Roommate or housemate or housemate\",\n",
    "    35: \"Foster child\",\n",
    "    36: \"Other nonrelative\",\n",
    "    37: \"Institutionalized group quarters population\",\n",
    "    38: \"Noninstitutionalized group quarters population\",\n",
    "}\n",
    "fl_person.relation_to_reference_person = fl_person.relation_to_reference_person.map(\n",
    "    relshipp_map\n",
    ")"
   ]
  },
  {
   "cell_type": "markdown",
   "id": "0446a946",
   "metadata": {},
   "source": [
    "# CHECKOUT EACH VAR"
   ]
  },
  {
   "cell_type": "code",
   "execution_count": 44,
   "id": "8d21e8b4",
   "metadata": {},
   "outputs": [],
   "source": [
    "import matplotlib.pyplot as plt"
   ]
  },
  {
   "cell_type": "code",
   "execution_count": 45,
   "id": "e1b4a05e",
   "metadata": {},
   "outputs": [
    {
     "data": {
      "text/html": [
       "<div>\n",
       "<style scoped>\n",
       "    .dataframe tbody tr th:only-of-type {\n",
       "        vertical-align: middle;\n",
       "    }\n",
       "\n",
       "    .dataframe tbody tr th {\n",
       "        vertical-align: top;\n",
       "    }\n",
       "\n",
       "    .dataframe thead th {\n",
       "        text-align: right;\n",
       "    }\n",
       "</style>\n",
       "<table border=\"1\" class=\"dataframe\">\n",
       "  <thead>\n",
       "    <tr style=\"text-align: right;\">\n",
       "      <th></th>\n",
       "      <th>household_id</th>\n",
       "      <th>puma</th>\n",
       "      <th>state</th>\n",
       "      <th>age</th>\n",
       "      <th>relation_to_reference_person</th>\n",
       "      <th>sex</th>\n",
       "      <th>hh_weight</th>\n",
       "      <th>race_eth</th>\n",
       "    </tr>\n",
       "  </thead>\n",
       "  <tbody>\n",
       "    <tr>\n",
       "      <th>0</th>\n",
       "      <td>2015000000042</td>\n",
       "      <td>10303</td>\n",
       "      <td>12</td>\n",
       "      <td>66</td>\n",
       "      <td>Reference person</td>\n",
       "      <td>Female</td>\n",
       "      <td>14</td>\n",
       "      <td>Non-Latino White alone</td>\n",
       "    </tr>\n",
       "    <tr>\n",
       "      <th>1</th>\n",
       "      <td>2015000000042</td>\n",
       "      <td>10303</td>\n",
       "      <td>12</td>\n",
       "      <td>68</td>\n",
       "      <td>Opposite-sex husband/wife/spouse</td>\n",
       "      <td>Male</td>\n",
       "      <td>14</td>\n",
       "      <td>Non-Latino White alone</td>\n",
       "    </tr>\n",
       "    <tr>\n",
       "      <th>2</th>\n",
       "      <td>2015000000042</td>\n",
       "      <td>10303</td>\n",
       "      <td>12</td>\n",
       "      <td>45</td>\n",
       "      <td>Biological son or daughter</td>\n",
       "      <td>Male</td>\n",
       "      <td>14</td>\n",
       "      <td>Non-Latino White alone</td>\n",
       "    </tr>\n",
       "    <tr>\n",
       "      <th>3</th>\n",
       "      <td>2015000000055</td>\n",
       "      <td>5301</td>\n",
       "      <td>12</td>\n",
       "      <td>82</td>\n",
       "      <td>Reference person</td>\n",
       "      <td>Male</td>\n",
       "      <td>6</td>\n",
       "      <td>Non-Latino White alone</td>\n",
       "    </tr>\n",
       "    <tr>\n",
       "      <th>4</th>\n",
       "      <td>2015000000055</td>\n",
       "      <td>5301</td>\n",
       "      <td>12</td>\n",
       "      <td>80</td>\n",
       "      <td>Opposite-sex husband/wife/spouse</td>\n",
       "      <td>Female</td>\n",
       "      <td>6</td>\n",
       "      <td>Non-Latino White alone</td>\n",
       "    </tr>\n",
       "  </tbody>\n",
       "</table>\n",
       "</div>"
      ],
      "text/plain": [
       "    household_id   puma  state  age        relation_to_reference_person     sex  \\\n",
       "0  2015000000042  10303     12   66                  Reference person  Female   \n",
       "1  2015000000042  10303     12   68  Opposite-sex husband/wife/spouse    Male   \n",
       "2  2015000000042  10303     12   45        Biological son or daughter    Male   \n",
       "3  2015000000055   5301     12   82                  Reference person    Male   \n",
       "4  2015000000055   5301     12   80  Opposite-sex husband/wife/spouse  Female   \n",
       "\n",
       "   hh_weight                race_eth  \n",
       "0         14  Non-Latino White alone  \n",
       "1         14  Non-Latino White alone  \n",
       "2         14  Non-Latino White alone  \n",
       "3          6  Non-Latino White alone  \n",
       "4          6  Non-Latino White alone  "
      ]
     },
     "execution_count": 45,
     "metadata": {},
     "output_type": "execute_result"
    }
   ],
   "source": [
    "fl_person.head()"
   ]
  },
  {
   "cell_type": "code",
   "execution_count": 46,
   "id": "46f5cd62",
   "metadata": {},
   "outputs": [
    {
     "data": {
      "text/plain": [
       "151"
      ]
     },
     "execution_count": 46,
     "metadata": {},
     "output_type": "execute_result"
    }
   ],
   "source": [
    "fl_person.puma.nunique()"
   ]
  },
  {
   "cell_type": "code",
   "execution_count": 47,
   "id": "a6649853",
   "metadata": {},
   "outputs": [
    {
     "data": {
      "image/png": "[encoded data removed]",
      "text/plain": [
       "<Figure size 432x288 with 1 Axes>"
      ]
     },
     "metadata": {
      "needs_background": "light"
     },
     "output_type": "display_data"
    }
   ],
   "source": [
    "hh_weight_by_puma = fl_person.groupby([\"puma\", \"household_id\"]).hh_weight.mean().reset_index()\n",
    "\n",
    "plt.bar(\n",
    "    height=hh_weight_by_puma.groupby(\"puma\").hh_weight.sum(),\n",
    "    x=range(0, hh_weight_by_puma.puma.nunique()),\n",
    ")\n",
    "plt.title(\"Population count across different PUMAs\")\n",
    "plt.ylabel(\"Population\")\n",
    "plt.xlabel(\"PUMA index (not ID)\")\n",
    "plt.show()"
   ]
  },
  {
   "cell_type": "code",
   "execution_count": 48,
   "id": "d6425ee7",
   "metadata": {},
   "outputs": [],
   "source": [
    "hist_dt = fl_person.copy()\n",
    "\n",
    "hist_dt[\"pp\"] = 1"
   ]
  },
  {
   "cell_type": "code",
   "execution_count": 51,
   "id": "d3a735a7",
   "metadata": {},
   "outputs": [
    {
     "data": {
      "image/png": "[encoded data removed]",
      "text/plain": [
       "<Figure size 432x288 with 1 Axes>"
      ]
     },
     "metadata": {
      "needs_background": "light"
     },
     "output_type": "display_data"
    }
   ],
   "source": [
    "fsize = 15\n",
    "plt.bar(\n",
    "    x=hist_dt.groupby(\"relation_to_reference_person\")\n",
    "    .hh_weight.sum()\n",
    "    .sort_values(ascending=False)\n",
    "    .index,\n",
    "    height=hist_dt.groupby(\"relation_to_reference_person\")\n",
    "    .hh_weight.sum()\n",
    "    .sort_values(ascending=False),\n",
    ")\n",
    "\n",
    "plt.title(\n",
    "    \"Relationship to household heads histogram using hh weights, Florida\",\n",
    "    fontsize=fsize + 3,\n",
    "    y=1.1,\n",
    ")\n",
    "# plt.xlabel('Age', fontsize = fsize)\n",
    "plt.ylabel(\"Absolute count\", fontsize=fsize)\n",
    "plt.xticks(rotation=90)  # Rotates X-Axis Ticks by 45-degrees\n",
    "plt.show()"
   ]
  },
  {
   "cell_type": "code",
   "execution_count": 52,
   "id": "ef84439d",
   "metadata": {},
   "outputs": [
    {
     "name": "stderr",
     "output_type": "stream",
     "text": [
      "/share/code/beatrixh/miniconda/envs/ciff/lib/python3.8/site-packages/pandas/core/arraylike.py:397: RuntimeWarning: divide by zero encountered in log\n",
      "  result = getattr(ufunc, method)(*inputs, **kwargs)\n"
     ]
    },
    {
     "data": {
      "image/png": "[encoded data removed]",
      "text/plain": [
       "<Figure size 432x288 with 1 Axes>"
      ]
     },
     "metadata": {
      "needs_background": "light"
     },
     "output_type": "display_data"
    }
   ],
   "source": [
    "plt.bar(\n",
    "    x=hist_dt.groupby(\"relation_to_reference_person\")\n",
    "    .hh_weight.sum()\n",
    "    .sort_values(ascending=False)\n",
    "    .index,\n",
    "    height=np.log(\n",
    "        hist_dt.groupby(\"relation_to_reference_person\")\n",
    "        .hh_weight.sum()\n",
    "        .sort_values(ascending=False)\n",
    "    ),\n",
    ")\n",
    "\n",
    "plt.title(\n",
    "    \"Relationship to household heads histogram using hh weights, Florida\",\n",
    "    fontsize=fsize + 3,\n",
    "    y=1.1,\n",
    ")\n",
    "# plt.xlabel('Age', fontsize = fsize)\n",
    "plt.ylabel(\"Count, log scale\", fontsize=fsize)\n",
    "plt.xticks(rotation=90)  # Rotates X-Axis Ticks by 45-degrees\n",
    "plt.show()"
   ]
  },
  {
   "cell_type": "code",
   "execution_count": 54,
   "id": "64c83fc0",
   "metadata": {},
   "outputs": [
    {
     "data": {
      "text/plain": [
       "sex\n",
       "Female    9542739\n",
       "Male      8787808\n",
       "Name: hh_weight, dtype: int64"
      ]
     },
     "execution_count": 54,
     "metadata": {},
     "output_type": "execute_result"
    }
   ],
   "source": [
    "hist_dt.groupby([\"sex\"]).hh_weight.sum()"
   ]
  },
  {
   "cell_type": "code",
   "execution_count": 55,
   "id": "a0c9903b",
   "metadata": {},
   "outputs": [
    {
     "data": {
      "text/plain": [
       "sex\n",
       "Female    0.520592\n",
       "Male      0.479408\n",
       "Name: hh_weight, dtype: float64"
      ]
     },
     "execution_count": 55,
     "metadata": {},
     "output_type": "execute_result"
    }
   ],
   "source": [
    "hist_dt.groupby([\"sex\"]).hh_weight.sum() / hist_dt.hh_weight.sum()"
   ]
  },
  {
   "cell_type": "code",
   "execution_count": 56,
   "id": "de98a12b",
   "metadata": {},
   "outputs": [
    {
     "data": {
      "image/png": "[encoded data removed]",
      "text/plain": [
       "<Figure size 432x288 with 1 Axes>"
      ]
     },
     "metadata": {
      "needs_background": "light"
     },
     "output_type": "display_data"
    }
   ],
   "source": [
    "plt.bar(\n",
    "    x=hist_dt.groupby(\"race_eth\").hh_weight.sum().sort_values(ascending=False).index,\n",
    "    height=np.log(hist_dt.groupby(\"race_eth\").hh_weight.sum().sort_values(ascending=False)),\n",
    ")\n",
    "\n",
    "plt.title(\"Race/ethnicity histogram using hh weights, Florida\", fontsize=fsize + 3, y=1.1)\n",
    "# plt.xlabel('Age', fontsize = fsize)\n",
    "plt.ylabel(\"Log scale count\", fontsize=fsize)\n",
    "plt.xticks(rotation=90)  # Rotates X-Axis Ticks by 45-degrees\n",
    "plt.show()"
   ]
  },
  {
   "cell_type": "code",
   "execution_count": 57,
   "id": "bb083daa",
   "metadata": {},
   "outputs": [
    {
     "data": {
      "image/png": "[encoded data removed]",
      "text/plain": [
       "<Figure size 432x288 with 1 Axes>"
      ]
     },
     "metadata": {
      "needs_background": "light"
     },
     "output_type": "display_data"
    }
   ],
   "source": [
    "plt.bar(\n",
    "    x=hist_dt.groupby(\"age\").hh_weight.sum().sort_values(ascending=False).index,\n",
    "    height=hist_dt.groupby(\"age\").hh_weight.sum().sort_values(ascending=False),\n",
    ")\n",
    "\n",
    "plt.title(\"Age curve using hh weights, Florida\", fontsize=fsize + 3, y=1.1)\n",
    "plt.xlabel(\"Age\", fontsize=fsize)\n",
    "plt.ylabel(\"Count\", fontsize=fsize)\n",
    "plt.xticks(rotation=90)  # Rotates X-Axis Ticks by 45-degrees\n",
    "plt.show()"
   ]
  },
  {
   "cell_type": "code",
   "execution_count": 58,
   "id": "9d47523b",
   "metadata": {},
   "outputs": [
    {
     "data": {
      "text/html": [
       "<div>\n",
       "<style scoped>\n",
       "    .dataframe tbody tr th:only-of-type {\n",
       "        vertical-align: middle;\n",
       "    }\n",
       "\n",
       "    .dataframe tbody tr th {\n",
       "        vertical-align: top;\n",
       "    }\n",
       "\n",
       "    .dataframe thead th {\n",
       "        text-align: right;\n",
       "    }\n",
       "</style>\n",
       "<table border=\"1\" class=\"dataframe\">\n",
       "  <thead>\n",
       "    <tr style=\"text-align: right;\">\n",
       "      <th></th>\n",
       "      <th>SERIALNO</th>\n",
       "      <th>WGTP</th>\n",
       "    </tr>\n",
       "  </thead>\n",
       "  <tbody>\n",
       "    <tr>\n",
       "      <th>0</th>\n",
       "      <td>2015000000037</td>\n",
       "      <td>14</td>\n",
       "    </tr>\n",
       "    <tr>\n",
       "      <th>1</th>\n",
       "      <td>2015000000067</td>\n",
       "      <td>9</td>\n",
       "    </tr>\n",
       "    <tr>\n",
       "      <th>2</th>\n",
       "      <td>2015000000090</td>\n",
       "      <td>11</td>\n",
       "    </tr>\n",
       "    <tr>\n",
       "      <th>3</th>\n",
       "      <td>2015000000160</td>\n",
       "      <td>15</td>\n",
       "    </tr>\n",
       "    <tr>\n",
       "      <th>4</th>\n",
       "      <td>2015000000345</td>\n",
       "      <td>29</td>\n",
       "    </tr>\n",
       "    <tr>\n",
       "      <th>...</th>\n",
       "      <td>...</td>\n",
       "      <td>...</td>\n",
       "    </tr>\n",
       "    <tr>\n",
       "      <th>1917163</th>\n",
       "      <td>2019HU1410371</td>\n",
       "      <td>3</td>\n",
       "    </tr>\n",
       "    <tr>\n",
       "      <th>1917164</th>\n",
       "      <td>2019HU1411359</td>\n",
       "      <td>12</td>\n",
       "    </tr>\n",
       "    <tr>\n",
       "      <th>1917165</th>\n",
       "      <td>2019HU1411842</td>\n",
       "      <td>5</td>\n",
       "    </tr>\n",
       "    <tr>\n",
       "      <th>1917166</th>\n",
       "      <td>2019HU1412021</td>\n",
       "      <td>9</td>\n",
       "    </tr>\n",
       "    <tr>\n",
       "      <th>1917167</th>\n",
       "      <td>2019HU1412362</td>\n",
       "      <td>14</td>\n",
       "    </tr>\n",
       "  </tbody>\n",
       "</table>\n",
       "<p>7613443 rows × 2 columns</p>\n",
       "</div>"
      ],
      "text/plain": [
       "              SERIALNO  WGTP\n",
       "0        2015000000037    14\n",
       "1        2015000000067     9\n",
       "2        2015000000090    11\n",
       "3        2015000000160    15\n",
       "4        2015000000345    29\n",
       "...                ...   ...\n",
       "1917163  2019HU1410371     3\n",
       "1917164  2019HU1411359    12\n",
       "1917165  2019HU1411842     5\n",
       "1917166  2019HU1412021     9\n",
       "1917167  2019HU1412362    14\n",
       "\n",
       "[7613443 rows x 2 columns]"
      ]
     },
     "execution_count": 58,
     "metadata": {},
     "output_type": "execute_result"
    }
   ],
   "source": [
    "hh_weights"
   ]
  },
  {
   "cell_type": "code",
   "execution_count": 59,
   "id": "81d32a1f",
   "metadata": {},
   "outputs": [
    {
     "data": {
      "text/html": [
       "<div>\n",
       "<style scoped>\n",
       "    .dataframe tbody tr th:only-of-type {\n",
       "        vertical-align: middle;\n",
       "    }\n",
       "\n",
       "    .dataframe tbody tr th {\n",
       "        vertical-align: top;\n",
       "    }\n",
       "\n",
       "    .dataframe thead th {\n",
       "        text-align: right;\n",
       "    }\n",
       "</style>\n",
       "<table border=\"1\" class=\"dataframe\">\n",
       "  <thead>\n",
       "    <tr style=\"text-align: right;\">\n",
       "      <th></th>\n",
       "      <th>household_id</th>\n",
       "      <th>puma</th>\n",
       "      <th>state</th>\n",
       "      <th>age</th>\n",
       "      <th>relation_to_reference_person</th>\n",
       "      <th>sex</th>\n",
       "      <th>hh_weight</th>\n",
       "      <th>race_eth</th>\n",
       "    </tr>\n",
       "  </thead>\n",
       "  <tbody>\n",
       "    <tr>\n",
       "      <th>0</th>\n",
       "      <td>2015000000042</td>\n",
       "      <td>10303</td>\n",
       "      <td>12</td>\n",
       "      <td>66</td>\n",
       "      <td>Reference person</td>\n",
       "      <td>Female</td>\n",
       "      <td>14</td>\n",
       "      <td>Non-Latino White alone</td>\n",
       "    </tr>\n",
       "    <tr>\n",
       "      <th>1</th>\n",
       "      <td>2015000000042</td>\n",
       "      <td>10303</td>\n",
       "      <td>12</td>\n",
       "      <td>68</td>\n",
       "      <td>Opposite-sex husband/wife/spouse</td>\n",
       "      <td>Male</td>\n",
       "      <td>14</td>\n",
       "      <td>Non-Latino White alone</td>\n",
       "    </tr>\n",
       "    <tr>\n",
       "      <th>2</th>\n",
       "      <td>2015000000042</td>\n",
       "      <td>10303</td>\n",
       "      <td>12</td>\n",
       "      <td>45</td>\n",
       "      <td>Biological son or daughter</td>\n",
       "      <td>Male</td>\n",
       "      <td>14</td>\n",
       "      <td>Non-Latino White alone</td>\n",
       "    </tr>\n",
       "    <tr>\n",
       "      <th>3</th>\n",
       "      <td>2015000000055</td>\n",
       "      <td>5301</td>\n",
       "      <td>12</td>\n",
       "      <td>82</td>\n",
       "      <td>Reference person</td>\n",
       "      <td>Male</td>\n",
       "      <td>6</td>\n",
       "      <td>Non-Latino White alone</td>\n",
       "    </tr>\n",
       "    <tr>\n",
       "      <th>4</th>\n",
       "      <td>2015000000055</td>\n",
       "      <td>5301</td>\n",
       "      <td>12</td>\n",
       "      <td>80</td>\n",
       "      <td>Opposite-sex husband/wife/spouse</td>\n",
       "      <td>Female</td>\n",
       "      <td>6</td>\n",
       "      <td>Non-Latino White alone</td>\n",
       "    </tr>\n",
       "    <tr>\n",
       "      <th>...</th>\n",
       "      <td>...</td>\n",
       "      <td>...</td>\n",
       "      <td>...</td>\n",
       "      <td>...</td>\n",
       "      <td>...</td>\n",
       "      <td>...</td>\n",
       "      <td>...</td>\n",
       "      <td>...</td>\n",
       "    </tr>\n",
       "    <tr>\n",
       "      <th>998469</th>\n",
       "      <td>2019HU1412413</td>\n",
       "      <td>8101</td>\n",
       "      <td>12</td>\n",
       "      <td>6</td>\n",
       "      <td>Biological son or daughter</td>\n",
       "      <td>Male</td>\n",
       "      <td>14</td>\n",
       "      <td>Non-Latino White alone</td>\n",
       "    </tr>\n",
       "    <tr>\n",
       "      <th>998470</th>\n",
       "      <td>2019HU1412413</td>\n",
       "      <td>8101</td>\n",
       "      <td>12</td>\n",
       "      <td>3</td>\n",
       "      <td>Biological son or daughter</td>\n",
       "      <td>Male</td>\n",
       "      <td>14</td>\n",
       "      <td>Non-Latino White alone</td>\n",
       "    </tr>\n",
       "    <tr>\n",
       "      <th>998471</th>\n",
       "      <td>2019HU1412447</td>\n",
       "      <td>8616</td>\n",
       "      <td>12</td>\n",
       "      <td>59</td>\n",
       "      <td>Reference person</td>\n",
       "      <td>Male</td>\n",
       "      <td>11</td>\n",
       "      <td>Non-Latino White alone</td>\n",
       "    </tr>\n",
       "    <tr>\n",
       "      <th>998472</th>\n",
       "      <td>2019HU1412447</td>\n",
       "      <td>8616</td>\n",
       "      <td>12</td>\n",
       "      <td>57</td>\n",
       "      <td>Opposite-sex husband/wife/spouse</td>\n",
       "      <td>Female</td>\n",
       "      <td>11</td>\n",
       "      <td>Non-Latino White alone</td>\n",
       "    </tr>\n",
       "    <tr>\n",
       "      <th>998473</th>\n",
       "      <td>2019HU1412449</td>\n",
       "      <td>9902</td>\n",
       "      <td>12</td>\n",
       "      <td>52</td>\n",
       "      <td>Reference person</td>\n",
       "      <td>Female</td>\n",
       "      <td>8</td>\n",
       "      <td>Non-Latino Asian alone</td>\n",
       "    </tr>\n",
       "  </tbody>\n",
       "</table>\n",
       "<p>998474 rows × 8 columns</p>\n",
       "</div>"
      ],
      "text/plain": [
       "         household_id   puma  state  age        relation_to_reference_person  \\\n",
       "0       2015000000042  10303     12   66                  Reference person   \n",
       "1       2015000000042  10303     12   68  Opposite-sex husband/wife/spouse   \n",
       "2       2015000000042  10303     12   45        Biological son or daughter   \n",
       "3       2015000000055   5301     12   82                  Reference person   \n",
       "4       2015000000055   5301     12   80  Opposite-sex husband/wife/spouse   \n",
       "...               ...    ...    ...  ...                               ...   \n",
       "998469  2019HU1412413   8101     12    6        Biological son or daughter   \n",
       "998470  2019HU1412413   8101     12    3        Biological son or daughter   \n",
       "998471  2019HU1412447   8616     12   59                  Reference person   \n",
       "998472  2019HU1412447   8616     12   57  Opposite-sex husband/wife/spouse   \n",
       "998473  2019HU1412449   9902     12   52                  Reference person   \n",
       "\n",
       "           sex  hh_weight                race_eth  \n",
       "0       Female         14  Non-Latino White alone  \n",
       "1         Male         14  Non-Latino White alone  \n",
       "2         Male         14  Non-Latino White alone  \n",
       "3         Male          6  Non-Latino White alone  \n",
       "4       Female          6  Non-Latino White alone  \n",
       "...        ...        ...                     ...  \n",
       "998469    Male         14  Non-Latino White alone  \n",
       "998470    Male         14  Non-Latino White alone  \n",
       "998471    Male         11  Non-Latino White alone  \n",
       "998472  Female         11  Non-Latino White alone  \n",
       "998473  Female          8  Non-Latino Asian alone  \n",
       "\n",
       "[998474 rows x 8 columns]"
      ]
     },
     "execution_count": 59,
     "metadata": {},
     "output_type": "execute_result"
    }
   ],
   "source": [
    "fl_person"
   ]
  },
  {
   "cell_type": "code",
   "execution_count": null,
   "id": "951f8aa1",
   "metadata": {},
   "outputs": [],
   "source": []
  }
 ],
 "metadata": {
  "kernelspec": {
   "display_name": "Python 3",
   "language": "python",
   "name": "python3"
  },
  "language_info": {
   "codemirror_mode": {
    "name": "ipython",
    "version": 3
   },
   "file_extension": ".py",
   "mimetype": "text/x-python",
   "name": "python",
   "nbconvert_exporter": "python",
   "pygments_lexer": "ipython3",
   "version": "3.8.12"
  }
 },
 "nbformat": 4,
 "nbformat_minor": 5
}
